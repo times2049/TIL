{
 "cells": [
  {
   "cell_type": "code",
   "execution_count": 8,
   "metadata": {
    "collapsed": true
   },
   "outputs": [],
   "source": [
    "from math import fabs\n",
    "\n",
    "\n",
    "\n"
   ]
  },
  {
   "cell_type": "markdown",
   "metadata": {},
   "source": [
    "## relative error = fabs(a-b)/max(fabs(a),fabs(b))"
   ]
  },
  {
   "cell_type": "code",
   "execution_count": 9,
   "metadata": {
    "collapsed": true
   },
   "outputs": [],
   "source": [
    "a= 0.1 * 3\n",
    "b = 0.3\n",
    "\n"
   ]
  },
  {
   "cell_type": "code",
   "execution_count": 10,
   "metadata": {
    "collapsed": true
   },
   "outputs": [],
   "source": [
    "##만약에 두 수의 차이가 1e-10 작거나 같으면 True\n",
    "## 두 수의 차이가 두 수 중에서 큰 수에 1e-8를 곱한 값보다 작거나 같다면 True\n",
    "##"
   ]
  },
  {
   "cell_type": "code",
   "execution_count": 13,
   "metadata": {},
   "outputs": [],
   "source": [
    "def is_equal(a,b):\n",
    "    diff = fabs(a-b)\n",
    "    if 1e-10 >= diff:\n",
    "        return True\n",
    "    \n",
    "    return  diff <= 1e-8 * max(fabs(a),fabs(b))   #상대오차가 1e-8보다 적다면"
   ]
  },
  {
   "cell_type": "code",
   "execution_count": 14,
   "metadata": {},
   "outputs": [
    {
     "name": "stdout",
     "output_type": "stream",
     "text": [
      "things\n"
     ]
    }
   ],
   "source": [
    "if is_equal(a,b):\n",
    "    print('things')"
   ]
  },
  {
   "cell_type": "code",
   "execution_count": null,
   "metadata": {
    "collapsed": true
   },
   "outputs": [],
   "source": [
    "# 근데 이것도 하드코딩이니까"
   ]
  },
  {
   "cell_type": "code",
   "execution_count": 50,
   "metadata": {
    "collapsed": true
   },
   "outputs": [],
   "source": [
    "import sys"
   ]
  },
  {
   "cell_type": "code",
   "execution_count": 51,
   "metadata": {
    "collapsed": true
   },
   "outputs": [],
   "source": [
    "def is_equal(a,b):\n",
    "    ep = sys.float_info.epsilon\n",
    "    diff = fabs(a-b)\n",
    "    \n",
    "    return  diff <= ep * max(fabs(a),fabs(b))   #상대오차가 ep보다 적다면"
   ]
  },
  {
   "cell_type": "code",
   "execution_count": 52,
   "metadata": {},
   "outputs": [],
   "source": [
    "if is_equal(a,b):\n",
    "    print('things')"
   ]
  },
  {
   "cell_type": "code",
   "execution_count": 53,
   "metadata": {
    "collapsed": true
   },
   "outputs": [],
   "source": [
    "# 이것도 문제가 있다."
   ]
  },
  {
   "cell_type": "code",
   "execution_count": 54,
   "metadata": {
    "collapsed": true
   },
   "outputs": [],
   "source": [
    "s=0.0\n",
    "a=0.01\n",
    "t=1.0"
   ]
  },
  {
   "cell_type": "code",
   "execution_count": 55,
   "metadata": {
    "collapsed": true
   },
   "outputs": [],
   "source": [
    "for _ in range(100):\n",
    "    s+=a"
   ]
  },
  {
   "cell_type": "code",
   "execution_count": 56,
   "metadata": {},
   "outputs": [],
   "source": [
    "if is_equal(s,t):\n",
    "    print('things')"
   ]
  },
  {
   "cell_type": "code",
   "execution_count": 58,
   "metadata": {
    "collapsed": true
   },
   "outputs": [],
   "source": [
    "def is_equal(a,b, w=0):     # epsilon comparison\n",
    "    '''\n",
    "    is_equal(a,b,w=0)->bool\n",
    "    w는 가중치입니다. w를 0부터 늘려가며 상대오차 범위를 조정해주세요.\n",
    "    \n",
    "    '''\n",
    "    ep = sys.float_info.epsilon\n",
    "    diff = fabs(a-b)\n",
    "    \n",
    "    return  diff <= max(fabs(a),fabs(b)) *ep *(2**w)  #상대오차가 ep보다 적다면"
   ]
  },
  {
   "cell_type": "code",
   "execution_count": 61,
   "metadata": {},
   "outputs": [
    {
     "name": "stdout",
     "output_type": "stream",
     "text": [
      "things\n"
     ]
    }
   ],
   "source": [
    "if is_equal(s,t,w=2):\n",
    "    print('things')"
   ]
  },
  {
   "cell_type": "code",
   "execution_count": 60,
   "metadata": {},
   "outputs": [
    {
     "name": "stdout",
     "output_type": "stream",
     "text": [
      "Help on function is_equal in module __main__:\n",
      "\n",
      "is_equal(a, b, w=0)\n",
      "    is_equal(a,b,w=0)->bool\n",
      "    w는 가중치입니다. w를 0부터 늘려가며 상대오차 범위를 조정해주세요.\n",
      "\n"
     ]
    }
   ],
   "source": [
    "help(is_equal)"
   ]
  },
  {
   "cell_type": "code",
   "execution_count": null,
   "metadata": {
    "collapsed": true
   },
   "outputs": [],
   "source": []
  }
 ],
 "metadata": {
  "kernelspec": {
   "display_name": "Python 3",
   "language": "python",
   "name": "python3"
  },
  "language_info": {
   "codemirror_mode": {
    "name": "ipython",
    "version": 3
   },
   "file_extension": ".py",
   "mimetype": "text/x-python",
   "name": "python",
   "nbconvert_exporter": "python",
   "pygments_lexer": "ipython3",
   "version": "3.6.3"
  }
 },
 "nbformat": 4,
 "nbformat_minor": 2
}
