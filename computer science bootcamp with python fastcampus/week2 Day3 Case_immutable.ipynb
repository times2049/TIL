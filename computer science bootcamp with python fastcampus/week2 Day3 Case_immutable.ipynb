{
 "cells": [
  {
   "cell_type": "code",
   "execution_count": 2,
   "metadata": {
    "collapsed": true
   },
   "outputs": [],
   "source": [
    "# immutable : 수, 튜플, 문자열\n",
    "# 통채로 다른 값을 할당하는 경우는 있으나 부분은 불가능하다.\n",
    "# mutable : 리스트, 딕셔너리\n",
    "# li -> [*,*,*] 각각 1,2,3을 가리킨다.  idx=0부분을 다른값 할당 가능"
   ]
  },
  {
   "cell_type": "code",
   "execution_count": 4,
   "metadata": {
    "collapsed": true
   },
   "outputs": [],
   "source": [
    "tu=(1, 2, 3)\n",
    "\n"
   ]
  },
  {
   "cell_type": "code",
   "execution_count": 5,
   "metadata": {
    "collapsed": true
   },
   "outputs": [],
   "source": [
    "tu=(5,2,3)"
   ]
  },
  {
   "cell_type": "code",
   "execution_count": 6,
   "metadata": {
    "collapsed": true
   },
   "outputs": [],
   "source": [
    "li=[1,2,3]"
   ]
  },
  {
   "cell_type": "code",
   "execution_count": 7,
   "metadata": {
    "collapsed": true
   },
   "outputs": [],
   "source": [
    "li[0]=55"
   ]
  },
  {
   "cell_type": "code",
   "execution_count": null,
   "metadata": {
    "collapsed": true
   },
   "outputs": [],
   "source": [
    "# 통째로 할당하면 다르게 된다."
   ]
  },
  {
   "cell_type": "code",
   "execution_count": 10,
   "metadata": {},
   "outputs": [
    {
     "name": "stdout",
     "output_type": "stream",
     "text": [
      "[5, 2, 3]  in change_value\n",
      "[1, 2, 3]  in main\n"
     ]
    }
   ],
   "source": [
    "li=[1,2,3]\n",
    "def change_value(li,new_li):\n",
    "    li=new_li\n",
    "    print(li,' in change_value')\n",
    "\n",
    "change_value(li, [5,2,3])\n",
    "print(li,' in main')"
   ]
  },
  {
   "cell_type": "code",
   "execution_count": null,
   "metadata": {
    "collapsed": true
   },
   "outputs": [],
   "source": [
    "# 주소값이 다르다."
   ]
  },
  {
   "cell_type": "code",
   "execution_count": 11,
   "metadata": {},
   "outputs": [
    {
     "name": "stdout",
     "output_type": "stream",
     "text": [
      "0x58a7708\n",
      "0x58a7708\n",
      "0x58ab288\n"
     ]
    }
   ],
   "source": [
    "li = [1,2,3]\n",
    "def change_value(li, new_li):\n",
    "    print(hex(id(li)))\n",
    "    print(hex(id(new_li)))\n",
    "    \n",
    "print(hex(id(li)))\n",
    "change_value(li = li, new_li = [1,2,3])"
   ]
  },
  {
   "cell_type": "code",
   "execution_count": 12,
   "metadata": {},
   "outputs": [
    {
     "name": "stdout",
     "output_type": "stream",
     "text": [
      "(4, 5, 6)  in change_val_tu\n",
      "(1, 2, 3)  in main\n"
     ]
    }
   ],
   "source": [
    "tu =(1,2,3)\n",
    "def change_val_tu(tu, *args):\n",
    "    tu = args\n",
    "    print(tu, ' in change_val_tu')\n",
    "change_val_tu(tu,4,5,6)\n",
    "print(tu, ' in main')"
   ]
  },
  {
   "cell_type": "code",
   "execution_count": 13,
   "metadata": {},
   "outputs": [
    {
     "name": "stdout",
     "output_type": "stream",
     "text": [
      "(4, 5, 6)  in change_val_tu\n",
      "(4, 5, 6)  in main\n"
     ]
    }
   ],
   "source": [
    "# 다큐멘테이션에 제시된 방법\n",
    "tu =(1,2,3)\n",
    "def change_val_tu(tu, *args):\n",
    "    tu = args\n",
    "    print(tu, ' in change_val_tu')\n",
    "    return tu\n",
    "tu = change_val_tu(tu,4,5,6)\n",
    "print(tu, ' in main')"
   ]
  },
  {
   "cell_type": "code",
   "execution_count": null,
   "metadata": {
    "collapsed": true
   },
   "outputs": [],
   "source": [
    "#li[idx]도 일종의 a처럼 이름이라고 생각?"
   ]
  }
 ],
 "metadata": {
  "kernelspec": {
   "display_name": "Python 3",
   "language": "python",
   "name": "python3"
  },
  "language_info": {
   "codemirror_mode": {
    "name": "ipython",
    "version": 3
   },
   "file_extension": ".py",
   "mimetype": "text/x-python",
   "name": "python",
   "nbconvert_exporter": "python",
   "pygments_lexer": "ipython3",
   "version": "3.6.3"
  }
 },
 "nbformat": 4,
 "nbformat_minor": 2
}
