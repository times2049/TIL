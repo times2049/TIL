{
 "cells": [
  {
   "cell_type": "code",
   "execution_count": 1,
   "metadata": {},
   "outputs": [
    {
     "name": "stdout",
     "output_type": "stream",
     "text": [
      "20 in change_value\n",
      "10 in main\n"
     ]
    }
   ],
   "source": [
    "x = 10\n",
    "\n",
    "def change_value(x, val):\n",
    "    x=val\n",
    "    print('{} in change_value'.format(x))\n",
    "    \n",
    "change_value(x,20)\n",
    "print('{} in main'.format(x))"
   ]
  },
  {
   "cell_type": "code",
   "execution_count": 2,
   "metadata": {
    "collapsed": true
   },
   "outputs": [],
   "source": [
    "# 안바뀐다. call by value 인가..?"
   ]
  },
  {
   "cell_type": "code",
   "execution_count": 7,
   "metadata": {
    "collapsed": true
   },
   "outputs": [],
   "source": [
    "li = [1,2,3]\n",
    "\n",
    "def change_val_li(li, idx, val):\n",
    "    \n",
    "    li[idx] = val\n",
    "    print(li,' in change_val_li')"
   ]
  },
  {
   "cell_type": "code",
   "execution_count": 8,
   "metadata": {},
   "outputs": [
    {
     "name": "stdout",
     "output_type": "stream",
     "text": [
      "[55, 2, 3]  in change_val_li\n",
      "[55, 2, 3]  in main\n"
     ]
    }
   ],
   "source": [
    "# call by value 라면 바뀌면 안된다.\n",
    "change_val_li(li,0,55)\n",
    "print(li,' in main')"
   ]
  },
  {
   "cell_type": "code",
   "execution_count": 9,
   "metadata": {
    "collapsed": true
   },
   "outputs": [],
   "source": [
    "# 어 뭐지..? 바뀌었네..? reference야?"
   ]
  },
  {
   "cell_type": "code",
   "execution_count": 10,
   "metadata": {
    "collapsed": true
   },
   "outputs": [],
   "source": [
    "# 둘다 아니구나\n",
    "\n",
    "\n",
    "# 파이썬에서 x는 이름객체  값인 10 을 가리킴.\n",
    "#처음 시작은 레퍼런스로 전달합니다."
   ]
  },
  {
   "cell_type": "code",
   "execution_count": null,
   "metadata": {
    "collapsed": true
   },
   "outputs": [],
   "source": [
    "# 이제부터 통합을 설명한다.\n"
   ]
  }
 ],
 "metadata": {
  "kernelspec": {
   "display_name": "Python 3",
   "language": "python",
   "name": "python3"
  },
  "language_info": {
   "codemirror_mode": {
    "name": "ipython",
    "version": 3
   },
   "file_extension": ".py",
   "mimetype": "text/x-python",
   "name": "python",
   "nbconvert_exporter": "python",
   "pygments_lexer": "ipython3",
   "version": "3.6.3"
  }
 },
 "nbformat": 4,
 "nbformat_minor": 2
}
