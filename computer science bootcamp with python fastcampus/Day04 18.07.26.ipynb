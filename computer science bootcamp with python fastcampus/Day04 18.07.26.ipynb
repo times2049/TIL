{
 "cells": [
  {
   "cell_type": "markdown",
   "metadata": {},
   "source": [
    "---\n",
    "## File I/O\n",
    "```python\n",
    "f = open(filename, mode)\n",
    "f.close()\n",
    "```\n",
    "\n",
    "mode\n",
    "r - 읽기모드\n",
    "w - 쓰기모드\n",
    "a - 추가모드(파일의 마지막에 새로운 내용을 추가)\n"
   ]
  },
  {
   "cell_type": "markdown",
   "metadata": {},
   "source": [
    "---\n",
    "## Create New File\n",
    "```python\n",
    "f = open(\"Newfile.txt\", 'w')\n",
    "f.close() \n",
    "```\n"
   ]
  },
  {
   "cell_type": "code",
   "execution_count": 3,
   "metadata": {
    "collapsed": true
   },
   "outputs": [],
   "source": [
    "f = open(\"sample.txt\", 'w')\n",
    "f.close() \n"
   ]
  },
  {
   "cell_type": "markdown",
   "metadata": {},
   "source": [
    "\n",
    "---\n",
    "## Write text\n",
    "```python\n",
    "f = open(\"Newfile.txt\", 'a')\n",
    "for i in range(1,11):\n",
    "    text = \"line %d. \\n\" % i\n",
    "    f.write(text)\n",
    "f.close()\n",
    "```\n",
    "\n",
    "## Read text\n",
    "```python\n",
    "f = open(\"Newfile.txt\", 'r')\n",
    "text = f.readline()\n",
    "print(text)\n",
    "f.close()\n",
    "```"
   ]
  },
  {
   "cell_type": "code",
   "execution_count": 4,
   "metadata": {
    "collapsed": true
   },
   "outputs": [],
   "source": [
    "f = open(\"sample.txt\", 'a')\n",
    "for i in range(1,11):\n",
    "    text = \"line %d. \\n\" % i\n",
    "    f.write(text)\n",
    "f.close()"
   ]
  },
  {
   "cell_type": "code",
   "execution_count": 5,
   "metadata": {},
   "outputs": [
    {
     "name": "stdout",
     "output_type": "stream",
     "text": [
      "line 1. \n",
      "\n"
     ]
    }
   ],
   "source": [
    "f = open(\"sample.txt\", 'r')\n",
    "text = f.readline()\n",
    "print(text)\n",
    "f.close()"
   ]
  },
  {
   "cell_type": "markdown",
   "metadata": {},
   "source": [
    "---\n",
    "## Read All text\n",
    "```python\n",
    "f = open(\"Newfile.txt\", 'r')\n",
    "while True:\n",
    "\ttext = f.readline()\n",
    "\tif not text: break\n",
    "\tprint(text)\n",
    "f.close()\n",
    "```"
   ]
  },
  {
   "cell_type": "code",
   "execution_count": 6,
   "metadata": {},
   "outputs": [
    {
     "name": "stdout",
     "output_type": "stream",
     "text": [
      "line 1. \n",
      "\n",
      "line 2. \n",
      "\n",
      "line 3. \n",
      "\n",
      "line 4. \n",
      "\n",
      "line 5. \n",
      "\n",
      "line 6. \n",
      "\n",
      "line 7. \n",
      "\n",
      "line 8. \n",
      "\n",
      "line 9. \n",
      "\n",
      "line 10. \n",
      "\n"
     ]
    }
   ],
   "source": [
    "f = open(\"sample.txt\", 'r')\n",
    "while True:\n",
    "\ttext = f.readline()\n",
    "\tif not text: break\n",
    "\tprint(text)\n",
    "f.close()"
   ]
  },
  {
   "cell_type": "markdown",
   "metadata": {},
   "source": [
    "---\n",
    "## Read All text using readlines\n",
    "```python\n",
    "f = open(\"Newfile.txt\", 'r')\n",
    "texts = f.readlines()\n",
    "for text in texts:\n",
    "\tprint(texts)\n",
    "f.close()\n",
    "```\n"
   ]
  },
  {
   "cell_type": "code",
   "execution_count": 8,
   "metadata": {},
   "outputs": [
    {
     "name": "stdout",
     "output_type": "stream",
     "text": [
      "line 1. \n",
      "\n",
      "line 2. \n",
      "\n",
      "line 3. \n",
      "\n",
      "line 4. \n",
      "\n",
      "line 5. \n",
      "\n",
      "line 6. \n",
      "\n",
      "line 7. \n",
      "\n",
      "line 8. \n",
      "\n",
      "line 9. \n",
      "\n",
      "line 10. \n",
      "\n"
     ]
    }
   ],
   "source": [
    "f = open(\"sample.txt\", 'r')\n",
    "texts = f.readlines()\n",
    "for text in texts:\n",
    "\tprint(texts)      #texts 와 text의 차이\n",
    "    print(text)\n",
    "f.close()"
   ]
  },
  {
   "cell_type": "code",
   "execution_count": 10,
   "metadata": {},
   "outputs": [
    {
     "name": "stdout",
     "output_type": "stream",
     "text": [
      "line 1. \n",
      "\n",
      "line 2. \n",
      "\n",
      "line 3. \n",
      "\n",
      "line 4. \n",
      "\n",
      "line 5. \n",
      "\n",
      "line 6. \n",
      "\n",
      "line 7. \n",
      "\n",
      "line 8. \n",
      "\n",
      "line 9. \n",
      "\n",
      "line 10. \n",
      "\n"
     ]
    }
   ],
   "source": [
    "with open(\"sample.txt\", 'r') as f:     # f = open()      f.close()\n",
    "    texts = f.readlines()\n",
    "    for text in texts:\n",
    "        print(text)      #texts 와 text의 차이"
   ]
  },
  {
   "cell_type": "markdown",
   "metadata": {},
   "source": [
    "---\n",
    "## Add text\n",
    "```python\n",
    "f = open(\"sample.txt\", 'a')\n",
    "for i in range(11, 20):\n",
    "\ttext = \"New line %d \\n\" % i\n",
    "\tf.write(text)\n",
    "f.close()\n",
    "```"
   ]
  },
  {
   "cell_type": "code",
   "execution_count": 11,
   "metadata": {
    "collapsed": true
   },
   "outputs": [],
   "source": [
    "f = open(\"sample.txt\", 'a')\n",
    "for i in range(11, 20):\n",
    "\ttext = \"New line %d \\n\" % i\n",
    "\tf.write(text)\n",
    "f.close()"
   ]
  },
  {
   "cell_type": "markdown",
   "metadata": {},
   "source": [
    "\n",
    "---\n",
    "## Get rid of f.close()\n",
    "```python\n",
    "with open(\"foo.txt\", 'w') as f:\n",
    "\tf.write(\"foo is text dummy\")\n",
    "```\n",
    "\n"
   ]
  },
  {
   "cell_type": "code",
   "execution_count": 43,
   "metadata": {
    "collapsed": true
   },
   "outputs": [],
   "source": [
    "# name, locale, lang\n",
    "# 김패캠, Seoul, Python\n",
    "# 박패캠, Busan, CPP\n",
    "\n",
    "comma=\",\"\n",
    "enter='\\n'\n",
    "names = [\"김패캠\",\"박패캠\",\"이패캠\",'지패캠',\"강패캠\"]\n",
    "locales = [\"Seoul\",\"Busan\",\"Japan\",\"China\",\"USA\"] \n",
    "langs = [\"Python\",\"CPP\",\"Java\",\"C#\",\"C++\"]\n",
    "with open('../users.csv','w') as f:\n",
    "    for name, locale, lang in zip(names, locales, langs):\n",
    "        temp = [name,locale,lang]\n",
    "        temp = comma.join(temp)\n",
    "        temp = temp+enter\n",
    "        f.write(temp)"
   ]
  },
  {
   "cell_type": "code",
   "execution_count": 31,
   "metadata": {},
   "outputs": [
    {
     "data": {
      "text/plain": [
       "b'\\xec\\x95\\x88\\xeb\\x85\\x95\\xed\\x95\\x98\\xec\\x84\\xb8\\xec\\x9a\\x94'"
      ]
     },
     "execution_count": 31,
     "metadata": {},
     "output_type": "execute_result"
    }
   ],
   "source": [
    "\"안녕하세요\".encode('utf-8')"
   ]
  },
  {
   "cell_type": "code",
   "execution_count": 39,
   "metadata": {},
   "outputs": [],
   "source": [
    "# name, locale, lang\n",
    "# 김패캠, Seoul, Python\n",
    "# 박패캠, Busan, CPP\n",
    "\n",
    "comma=\",\"\n",
    "enter='\\n'\n",
    "names = [\"김패캠\",\"박패캠\",\"이패캠\",'지패캠',\"강패캠\"]\n",
    "locales = [\"Seoul\",\"Busan\",\"Japan\",\"China\",\"USA\"] \n",
    "langs = [\"Python\",\"CPP\",\"Java\",\"C#\",\"C++\"]\n",
    "with open('../users.csv','w') as f:\n",
    "    for name, locale, lang in zip(names, locales, langs):\n",
    "\n",
    "        f.write(\"{},{},{}\\n\".format(name,locale,lang))"
   ]
  },
  {
   "cell_type": "code",
   "execution_count": 42,
   "metadata": {
    "scrolled": true
   },
   "outputs": [
    {
     "name": "stdout",
     "output_type": "stream",
     "text": [
      "김패캠,Seoul,Python\n",
      "\n",
      "['김패캠', 'Seoul', 'Python']\n",
      "박패캠,Busan,CPP\n",
      "\n",
      "['박패캠', 'Busan', 'CPP']\n",
      "이패캠,Japan,Java\n",
      "\n",
      "['이패캠', 'Japan', 'Java']\n",
      "지패캠,China,C#\n",
      "\n",
      "['지패캠', 'China', 'C#']\n",
      "강패캠,USA,C++\n",
      "\n",
      "['강패캠', 'USA', 'C++']\n"
     ]
    }
   ],
   "source": [
    "with open('../users.csv','r') as f:\n",
    "    texts = f.readlines()\n",
    "    for text in texts:\n",
    "        print(text)\n",
    "        print(texts)\n",
    "        print(text.replace('\\n','').split(','))"
   ]
  },
  {
   "cell_type": "code",
   "execution_count": 44,
   "metadata": {},
   "outputs": [
    {
     "name": "stdout",
     "output_type": "stream",
     "text": [
      "Type some number: sda\n",
      "I said NUMBER!!\n"
     ]
    }
   ],
   "source": [
    "\n",
    "try:\n",
    "    some_num = int(input(\"Type some number: \"))\n",
    "except ValueError:\n",
    "    print(\"I said NUMBER!!\")"
   ]
  },
  {
   "cell_type": "code",
   "execution_count": 45,
   "metadata": {
    "collapsed": true
   },
   "outputs": [],
   "source": [
    "# 어떻게 반복할까?\n",
    "\n",
    "\n",
    "def get_num():\n",
    "    try:\n",
    "        some_num = int(input(\"Type some number: \"))\n",
    "    except ValueError:\n",
    "        print(\"I said NUMBER!!\")\n",
    "        get_num()"
   ]
  },
  {
   "cell_type": "code",
   "execution_count": 46,
   "metadata": {},
   "outputs": [
    {
     "name": "stdout",
     "output_type": "stream",
     "text": [
      "Type some number: sdf\n",
      "I said NUMBER!!\n",
      "Type some number: sdf\n",
      "I said NUMBER!!\n",
      "Type some number: sdf\n",
      "I said NUMBER!!\n",
      "Type some number: sdf\n",
      "I said NUMBER!!\n",
      "Type some number: dsf\n",
      "I said NUMBER!!\n",
      "Type some number: ds\n",
      "I said NUMBER!!\n",
      "Type some number: ds\n",
      "I said NUMBER!!\n",
      "Type some number: fds\n",
      "I said NUMBER!!\n",
      "Type some number: 1\n"
     ]
    }
   ],
   "source": [
    "get_num()"
   ]
  },
  {
   "cell_type": "code",
   "execution_count": null,
   "metadata": {
    "collapsed": true
   },
   "outputs": [],
   "source": [
    "\n",
    "try:\n",
    "    some_num = int(input(\"Type some number: \"))\n",
    "except ValueError:\n",
    "    print(\"I said NUMBER!!\")\n",
    "    try:\n",
    "        some_num = int(input(\"Type some number: \"))\n",
    "    except ValueError:\n",
    "        print(\"I said NUMBER!!\")"
   ]
  },
  {
   "cell_type": "code",
   "execution_count": 47,
   "metadata": {},
   "outputs": [
    {
     "ename": "FileNotFoundError",
     "evalue": "[Errno 2] No such file or directory: './existance.txt'",
     "output_type": "error",
     "traceback": [
      "\u001b[1;31m---------------------------------------------------------------------------\u001b[0m",
      "\u001b[1;31mFileNotFoundError\u001b[0m                         Traceback (most recent call last)",
      "\u001b[1;32m<ipython-input-47-583bed49f300>\u001b[0m in \u001b[0;36m<module>\u001b[1;34m()\u001b[0m\n\u001b[1;32m----> 1\u001b[1;33m \u001b[0mf\u001b[0m \u001b[1;33m=\u001b[0m \u001b[0mopen\u001b[0m\u001b[1;33m(\u001b[0m\u001b[1;34m'./existance.txt'\u001b[0m\u001b[1;33m,\u001b[0m\u001b[1;34m'r'\u001b[0m\u001b[1;33m)\u001b[0m\u001b[1;33m\u001b[0m\u001b[0m\n\u001b[0m",
      "\u001b[1;31mFileNotFoundError\u001b[0m: [Errno 2] No such file or directory: './existance.txt'"
     ]
    }
   ],
   "source": [
    "f = open('./existance.txt','r')"
   ]
  },
  {
   "cell_type": "code",
   "execution_count": 48,
   "metadata": {
    "collapsed": true
   },
   "outputs": [],
   "source": [
    "try:\n",
    "    f = open('./existance.txt','r')\n",
    "except FileNotFoundError:\n",
    "    print(\"not found\")\n",
    "    pass"
   ]
  },
  {
   "cell_type": "code",
   "execution_count": 49,
   "metadata": {},
   "outputs": [
    {
     "ename": "ValueError",
     "evalue": "I/O operation on closed file.",
     "output_type": "error",
     "traceback": [
      "\u001b[1;31m---------------------------------------------------------------------------\u001b[0m",
      "\u001b[1;31mValueError\u001b[0m                                Traceback (most recent call last)",
      "\u001b[1;32m<ipython-input-49-7d297ac96843>\u001b[0m in \u001b[0;36m<module>\u001b[1;34m()\u001b[0m\n\u001b[1;32m----> 1\u001b[1;33m \u001b[0mf\u001b[0m\u001b[1;33m.\u001b[0m\u001b[0mwrite\u001b[0m\u001b[1;33m(\u001b[0m\u001b[1;34m'a'\u001b[0m\u001b[1;33m)\u001b[0m\u001b[1;33m\u001b[0m\u001b[0m\n\u001b[0m",
      "\u001b[1;31mValueError\u001b[0m: I/O operation on closed file."
     ]
    }
   ],
   "source": [
    "f.write('a')   #open이 실패했기 때문에 "
   ]
  },
  {
   "cell_type": "code",
   "execution_count": null,
   "metadata": {
    "collapsed": true
   },
   "outputs": [],
   "source": [
    "try:\n",
    "    some_num = int(input(\"Type some number: \"))\n",
    "except ValueError:\n",
    "    print(\"Value error has occured.\")\n",
    "except error2:"
   ]
  },
  {
   "cell_type": "code",
   "execution_count": 50,
   "metadata": {
    "collapsed": true
   },
   "outputs": [],
   "source": [
    "def noname():\n",
    "    try:\n",
    "        eval(input(\"Type something: \"))\n",
    "    except NameError:\n",
    "        print(\"You need to use ' ' to type string\")\n",
    "        noname()"
   ]
  },
  {
   "cell_type": "code",
   "execution_count": 51,
   "metadata": {},
   "outputs": [
    {
     "name": "stdout",
     "output_type": "stream",
     "text": [
      "Type something: sd\n",
      "You need to use ' ' to type string\n",
      "Type something: f\n"
     ]
    }
   ],
   "source": [
    "noname()"
   ]
  },
  {
   "cell_type": "code",
   "execution_count": null,
   "metadata": {
    "collapsed": true
   },
   "outputs": [],
   "source": []
  }
 ],
 "metadata": {
  "kernelspec": {
   "display_name": "Python 3",
   "language": "python",
   "name": "python3"
  },
  "language_info": {
   "codemirror_mode": {
    "name": "ipython",
    "version": 3
   },
   "file_extension": ".py",
   "mimetype": "text/x-python",
   "name": "python",
   "nbconvert_exporter": "python",
   "pygments_lexer": "ipython3",
   "version": "3.6.3"
  }
 },
 "nbformat": 4,
 "nbformat_minor": 2
}
